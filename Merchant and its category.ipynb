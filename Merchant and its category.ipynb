{
 "cells": [
  {
   "cell_type": "code",
   "execution_count": 1,
   "metadata": {},
   "outputs": [],
   "source": [
    "import selenium"
   ]
  },
  {
   "cell_type": "code",
   "execution_count": 2,
   "metadata": {},
   "outputs": [],
   "source": [
    "from selenium import webdriver\n",
    "\n",
    "browser = webdriver.Firefox()\n",
    "browser.get('https://giftpass.sodexomerchant.com/merchant')"
   ]
  },
  {
   "cell_type": "code",
   "execution_count": null,
   "metadata": {},
   "outputs": [],
   "source": [
    "content = browser.find_element_by_class_name('content')\n",
    "container = content.find_element_by_class_name('container')\n",
    "print(container)"
   ]
  },
  {
   "cell_type": "code",
   "execution_count": null,
   "metadata": {},
   "outputs": [],
   "source": [
    "header3 = container.find_element_by_tag_name('h3')\n",
    "category = header3.text\n",
    "print(type(category))"
   ]
  },
  {
   "cell_type": "code",
   "execution_count": null,
   "metadata": {},
   "outputs": [],
   "source": [
    "getLink_merch_name = container.find_element_by_tag_name(\"a\")\n",
    "link_merch_name = getLink_merch_name.get_attribute('href')\n",
    "print(link_merch_name)"
   ]
  },
  {
   "cell_type": "code",
   "execution_count": null,
   "metadata": {},
   "outputs": [],
   "source": [
    "list_a = getLink_merch_name.find_elements_by_xpath('//a[@href]')\n",
    "\n",
    "for a in list_a:\n",
    "    href = a.get_attribute('href')\n",
    "    print(href)\n",
    "\n",
    "get_href = container.find_element_by_tag_name(\"a\")\n",
    "#     link_merch_name = get_href.get_attribute('href')\n",
    "#     print(link_merch_name)"
   ]
  },
  {
   "cell_type": "code",
   "execution_count": null,
   "metadata": {},
   "outputs": [],
   "source": [
    "container = content.find_elements_by_xpath('/html/body/section/div[1]/div[1]')\n",
    "print(container)"
   ]
  },
  {
   "cell_type": "code",
   "execution_count": null,
   "metadata": {},
   "outputs": [],
   "source": [
    "import json\n",
    "list_link = []\n",
    "merchant_per_category = []\n",
    "\n",
    "for i in range(10):\n",
    "    i = i + 1 \n",
    "    print(i)\n",
    "    xpath = '/html/body/section/div[1]/div'\n",
    "    bracket1 = '['\n",
    "    str_i = str(i)\n",
    "    bracket2 = ']'\n",
    "    xpath_container = xpath+bracket1+str_i+bracket2\n",
    "    container = content.find_elements_by_xpath(xpath_container)\n",
    "    container_0 = container[0]\n",
    "    header3 = container_0.find_element_by_tag_name('h3')\n",
    "    category = header3.text\n",
    "#     print(category)\n",
    "    list_a = container_0.find_elements_by_xpath('//a[@href]')\n",
    "    for cont in list_a:\n",
    "        hr = container_0.find_element_by_tag_name('<hr>')\n",
    "        if hr == '' :\n",
    "            href = cont.get_attribute('href')\n",
    "        else:\n",
    "            break\n",
    "#         print(href)\n",
    "        list_link.append(href)\n",
    "    merchant_per_category.append([category,list_link])"
   ]
  },
  {
   "cell_type": "code",
   "execution_count": null,
   "metadata": {},
   "outputs": [],
   "source": [
    "merchant_per_category[1]"
   ]
  },
  {
   "cell_type": "code",
   "execution_count": null,
   "metadata": {},
   "outputs": [],
   "source": [
    "container = content.find_elements_by_xpath('/html/body/section/div[1]/div[2]')\n",
    "print(container)\n",
    "container[0]"
   ]
  },
  {
   "cell_type": "code",
   "execution_count": null,
   "metadata": {},
   "outputs": [],
   "source": [
    "hr = container_0.find_element_by_tag_name('hr')"
   ]
  }
 ],
 "metadata": {
  "kernelspec": {
   "display_name": "Python 3",
   "language": "python",
   "name": "python3"
  },
  "language_info": {
   "codemirror_mode": {
    "name": "ipython",
    "version": 3
   },
   "file_extension": ".py",
   "mimetype": "text/x-python",
   "name": "python",
   "nbconvert_exporter": "python",
   "pygments_lexer": "ipython3",
   "version": "3.7.7"
  }
 },
 "nbformat": 4,
 "nbformat_minor": 4
}
