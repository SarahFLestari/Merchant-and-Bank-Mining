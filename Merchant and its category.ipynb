{
 "cells": [
  {
   "cell_type": "code",
   "execution_count": 1,
   "metadata": {},
   "outputs": [],
   "source": [
    "import selenium\n",
    "from selenium import webdriver"
   ]
  },
  {
   "cell_type": "code",
   "execution_count": null,
   "metadata": {},
   "outputs": [],
   "source": [
    "browser = webdriver.Firefox()\n",
    "browser.get('https://giftpass.sodexomerchant.com/merchant')"
   ]
  },
  {
   "cell_type": "code",
   "execution_count": null,
   "metadata": {},
   "outputs": [],
   "source": [
    "content = browser.find_element_by_class_name('content')\n",
    "container = content.find_element_by_class_name('container')\n",
    "print(container)"
   ]
  },
  {
   "cell_type": "code",
   "execution_count": null,
   "metadata": {},
   "outputs": [],
   "source": [
    "header3 = container.find_element_by_tag_name('h3')\n",
    "category = header3.text\n",
    "print(type(category))"
   ]
  },
  {
   "cell_type": "code",
   "execution_count": null,
   "metadata": {},
   "outputs": [],
   "source": [
    "getLink_merch_name = container.find_element_by_tag_name(\"a\")\n",
    "link_merch_name = getLink_merch_name.get_attribute('href')\n",
    "print(link_merch_name)"
   ]
  },
  {
   "cell_type": "code",
   "execution_count": null,
   "metadata": {},
   "outputs": [],
   "source": [
    "list_a = getLink_merch_name.find_elements_by_xpath('//a[@href]')\n",
    "\n",
    "for a in list_a:\n",
    "    href = a.get_attribute('href')\n",
    "    print(href)\n",
    "\n",
    "get_href = container.find_element_by_tag_name(\"a\")\n",
    "#     link_merch_name = get_href.get_attribute('href')\n",
    "#     print(link_merch_name)"
   ]
  },
  {
   "cell_type": "code",
   "execution_count": null,
   "metadata": {},
   "outputs": [],
   "source": [
    "container = content.find_elements_by_xpath('/html/body/section/div[1]/div[1]')\n",
    "print(container)"
   ]
  },
  {
   "cell_type": "code",
   "execution_count": null,
   "metadata": {},
   "outputs": [],
   "source": [
    "import json\n",
    "list_link = []\n",
    "merchant_per_category = []\n",
    "\n",
    "for i in range(10):\n",
    "    i = i + 1 \n",
    "    print(i)\n",
    "    xpath = '/html/body/section/div[1]/div'\n",
    "    bracket1 = '['\n",
    "    str_i = str(i)\n",
    "    bracket2 = ']'\n",
    "    xpath_container = xpath+bracket1+str_i+bracket2\n",
    "    container = content.find_elements_by_xpath(xpath_container)\n",
    "    container_0 = container[0]\n",
    "    header3 = container_0.find_element_by_tag_name('h3')\n",
    "    category = header3.text\n",
    "#     print(category)\n",
    "    list_a = container_0.find_elements_by_xpath('//a[@href]')\n",
    "    for cont in list_a:\n",
    "        hr = container_0.find_element_by_tag_name('<hr>')\n",
    "        if hr == '' :\n",
    "            href = cont.get_attribute('href')\n",
    "        else:\n",
    "            break\n",
    "#         print(href)\n",
    "        list_link.append(href)\n",
    "    merchant_per_category.append([category,list_link])"
   ]
  },
  {
   "cell_type": "code",
   "execution_count": null,
   "metadata": {},
   "outputs": [],
   "source": [
    "merchant_per_category[1]"
   ]
  },
  {
   "cell_type": "code",
   "execution_count": null,
   "metadata": {},
   "outputs": [],
   "source": [
    "container = content.find_elements_by_xpath('/html/body/section/div[1]/div[2]')\n",
    "print(container)\n",
    "container[0]"
   ]
  },
  {
   "cell_type": "code",
   "execution_count": null,
   "metadata": {},
   "outputs": [],
   "source": [
    "hr = container_0.find_element_by_tag_name('hr')"
   ]
  },
  {
   "cell_type": "markdown",
   "metadata": {},
   "source": [
    "## BeatifulSoup"
   ]
  },
  {
   "cell_type": "code",
   "execution_count": null,
   "metadata": {},
   "outputs": [],
   "source": [
    "from bs4 import BeautifulSoup\n",
    "import requests\n",
    "\n",
    "url = 'https://giftpass.sodexomerchant.com/merchant'\n",
    "html_doc = requests.get(url).content\n",
    "soup = BeautifulSoup(html_doc, 'html.parser')"
   ]
  },
  {
   "cell_type": "code",
   "execution_count": null,
   "metadata": {},
   "outputs": [],
   "source": [
    "mrc_slide = soup.find(\"div\", {\"class\": \"mrc-slides\"})\n",
    "#print(mrc_slide)"
   ]
  },
  {
   "cell_type": "code",
   "execution_count": null,
   "metadata": {},
   "outputs": [],
   "source": [
    "category_container = mrc_slide.find(\"div\", {\"class\": \"container\"})\n",
    "category_name = category_container.find('h3').get_text().strip()\n",
    "merchant_name = category_container.find('span').get_text().strip()\n",
    "print(category_name)\n",
    "print(merchant_name)"
   ]
  },
  {
   "cell_type": "code",
   "execution_count": null,
   "metadata": {},
   "outputs": [],
   "source": [
    "merchants_name = [x.get_text().strip()\n",
    "               for x in category_container.find_all('span')]\n",
    "# print(merchants_name)"
   ]
  },
  {
   "cell_type": "code",
   "execution_count": null,
   "metadata": {},
   "outputs": [],
   "source": [
    "merchants_itsCategory = []\n",
    "for category_container_i in mrc_slide.find_all(\"div\", {\"class\": \"container\"}):\n",
    "    category_names = category_container_i.find('h3').get_text().strip()\n",
    "    merchants_name = [x.get_text().strip()\n",
    "               for x in category_container_i.find_all('span')]\n",
    "    merchants_itsCategory.append([category_names, merchants_name])"
   ]
  },
  {
   "cell_type": "code",
   "execution_count": null,
   "metadata": {},
   "outputs": [],
   "source": [
    "#Cleansing\n",
    "for i in range(len(merchants_itsCategory)):\n",
    "#     print(merchants_itsCategory[i])\n",
    "    for j in merchants_itsCategory[i][1]:\n",
    "        if j == 'Detail Information':\n",
    "          merchants_itsCategory[i][1].remove(j)  \n",
    "        else:\n",
    "            continue"
   ]
  },
  {
   "cell_type": "code",
   "execution_count": null,
   "metadata": {},
   "outputs": [],
   "source": [
    "#Cleansing2\n",
    "import re\n",
    "for i in range(len(merchants_itsCategory)):\n",
    "    for j in range(len(merchants_itsCategory[i][1])):\n",
    "        merchants_itsCategory[i][1][j]=merchants_itsCategory[i][1][j].strip().replace('\\nDetail Information', '')"
   ]
  },
  {
   "cell_type": "code",
   "execution_count": null,
   "metadata": {},
   "outputs": [],
   "source": [
    "print(merchants_itsCategory)"
   ]
  },
  {
   "cell_type": "code",
   "execution_count": null,
   "metadata": {},
   "outputs": [],
   "source": [
    "#To Pandas\n",
    "import pandas as pd\n",
    "df = pd.DataFrame(merchants_itsCategory,columns=['Category','Merchants Name'])"
   ]
  },
  {
   "cell_type": "code",
   "execution_count": null,
   "metadata": {},
   "outputs": [],
   "source": [
    "df.head()"
   ]
  },
  {
   "cell_type": "code",
   "execution_count": null,
   "metadata": {},
   "outputs": [],
   "source": [
    "df_merchants = df.explode('Merchants Name')\n",
    "df_merchants['Merchants Name'] = df_merchants['Merchants Name'].str.strip()\n",
    "df_merchants = df_merchants.drop_duplicates()\n",
    "df_merchants.head()"
   ]
  },
  {
   "cell_type": "code",
   "execution_count": null,
   "metadata": {},
   "outputs": [],
   "source": [
    "df_merchants.to_csv(\"merchants_category_sodexo.csv\")"
   ]
  },
  {
   "cell_type": "markdown",
   "metadata": {},
   "source": [
    "Gopay"
   ]
  },
  {
   "cell_type": "code",
   "execution_count": 16,
   "metadata": {},
   "outputs": [],
   "source": [
    "from bs4 import BeautifulSoup\n",
    "import requests\n",
    "\n",
    "url = 'https://www.gojek.com/gopay/pembayaran/merchant/'\n",
    "html_doc = requests.get(url).content\n",
    "soup = BeautifulSoup(html_doc, 'html.parser')"
   ]
  },
  {
   "cell_type": "code",
   "execution_count": 20,
   "metadata": {},
   "outputs": [
    {
     "name": "stdout",
     "output_type": "stream",
     "text": [
      "<div class=\"container\"><div class=\"row align-items-center header-menu\"><div class=\"col-auto\"><a href=\"/\"><picture class=\"header-logo\"><source media=\"(max-width: 768px)\" srcset=\"https://bilba.go-jek.com/images/logo/driver.svg\"/><img src=\"https://bilba.go-jek.com/images/logo/go-jek.svg\"/></picture></a></div><div bcolor=\"gopay\" class=\"col-auto header-submenu hide-desktop ripple\" data-toggle=\"#go-submenu-overlay,#go-submenu\" id=\"go-submenu\"><div class=\"row align-items-center\"><div class=\"col\"><h5 style=\"display:inline-block;\">GO-PAY</h5><svg height=\"292.362px\" id=\"Capa_1\" style=\"enable-background:new 0 0 292.362 292.362;\" version=\"1.1\" viewbox=\"0 0 292.362 292.362\" width=\"292.362px\" x=\"0px\" xml:space=\"preserve\" xmlns=\"http://www.w3.org/2000/svg\" xmlns:xlink=\"http://www.w3.org/1999/xlink\" y=\"0px\"><g><path d=\"M286.935,69.377c-3.614-3.617-7.898-5.424-12.848-5.424H18.274c-4.952,0-9.233,1.807-12.85,5.424\n",
      "\t\t\t\t\t\t\t\t\t\t\t\tC1.807,72.998,0,77.279,0,82.228c0,4.948,1.807,9.229,5.424,12.847l127.907,127.907c3.621,3.617,7.902,5.428,12.85,5.428\n",
      "\t\t\t\t\t\t\t\t\t\t\t\ts9.233-1.811,12.847-5.428L286.935,95.074c3.613-3.617,5.427-7.898,5.427-12.847C292.362,77.279,290.548,72.998,286.935,69.377z\"></path></g><g></g><g></g><g></g><g></g><g></g><g></g><g></g><g></g><g></g><g></g><g></g><g></g><g></g><g></g><g></g></svg></div></div></div><div class=\"col-6 hide-tablet\"><div class=\"row header-link\"><div class=\"col-auto\"><a href=\"/about/\">Tentang Kami</a></div><div class=\"col-auto\"><a data-toggle='[megamenu=\"services\"]' data-toggle-disactive='[megamenu=\"join\"]' href=\"javascript:void(0)\">Layanan</a></div><div class=\"col-auto\"><a href=\"/blog/\">Blog</a></div><div class=\"col-auto\"><a href=\"/help/\">FAQ</a></div></div></div><div class=\"col\"><div class=\"container\"><div class=\"row justify-content-end\"><div class=\"col col-auto hide-tablet\"><div class=\"row header-choose align-items-center first\" data-toggle='[megamenu=\"join\"]' data-toggle-disactive=\"[megamenu='services']\"><div class=\"col col-lg-auto icon\"><svg height=\"512px\" id=\"Capa_1\" style=\"enable-background:new 0 0 563.43 563.43;\" version=\"1.1\" viewbox=\"0 0 563.43 563.43\" width=\"512px\" x=\"0px\" xml:space=\"preserve\" xmlns=\"http://www.w3.org/2000/svg\" xmlns:xlink=\"http://www.w3.org/1999/xlink\" y=\"0px\"><path d=\"M280.79,314.559c83.266,0,150.803-67.538,150.803-150.803S364.055,13.415,280.79,13.415S129.987,80.953,129.987,163.756  S197.524,314.559,280.79,314.559z M280.79,52.735c61.061,0,111.021,49.959,111.021,111.021S341.851,274.776,280.79,274.776  s-111.021-49.959-111.021-111.021S219.728,52.735,280.79,52.735z\" fill=\"#FFFFFF\"></path><path d=\"M19.891,550.015h523.648c11.102,0,19.891-8.789,19.891-19.891c0-104.082-84.653-189.198-189.198-189.198H189.198  C85.116,340.926,0,425.579,0,530.124C0,541.226,8.789,550.015,19.891,550.015z M189.198,380.708h185.034  c75.864,0,138.313,56.436,148.028,129.524H41.17C50.884,437.607,113.334,380.708,189.198,380.708z\" fill=\"#FFFFFF\"></path><g></g><g></g><g></g><g></g><g></g><g></g><g></g><g></g><g></g><g></g><g></g><g></g><g></g><g></g><g></g></svg></div><div class=\"col\">Gabung</div></div></div><div class=\"col col-auto\" data-toggle=\"#go-language\"><div class=\"row header-choose align-items-center\"><div class=\"col col-auto icon globe\"><svg height=\"512px\" id=\"Capa_1\" style=\"enable-background:new 0 0 58 58;\" version=\"1.1\" viewbox=\"0 0 58 58\" width=\"512px\" x=\"0px\" xml:space=\"preserve\" xmlns=\"http://www.w3.org/2000/svg\" xmlns:xlink=\"http://www.w3.org/1999/xlink\" y=\"0px\"><path d=\"M50.688,48.222C55.232,43.101,58,36.369,58,29c0-7.667-2.996-14.643-7.872-19.834c0,0,0-0.001,0-0.001  c-0.004-0.006-0.01-0.008-0.013-0.013c-5.079-5.399-12.195-8.855-20.11-9.126l-0.001-0.001L29.439,0.01C29.293,0.005,29.147,0,29,0  s-0.293,0.005-0.439,0.01l-0.563,0.015l-0.001,0.001c-7.915,0.271-15.031,3.727-20.11,9.126c-0.004,0.005-0.01,0.007-0.013,0.013  c0,0,0,0.001-0.001,0.002C2.996,14.357,0,21.333,0,29c0,7.369,2.768,14.101,7.312,19.222c0.006,0.009,0.006,0.019,0.013,0.028  c0.018,0.025,0.044,0.037,0.063,0.06c5.106,5.708,12.432,9.385,20.608,9.665l0.001,0.001l0.563,0.015C28.707,57.995,28.853,58,29,58  s0.293-0.005,0.439-0.01l0.563-0.015l0.001-0.001c8.185-0.281,15.519-3.965,20.625-9.685c0.013-0.017,0.034-0.022,0.046-0.04  C50.682,48.241,50.682,48.231,50.688,48.222z M2.025,30h12.003c0.113,4.239,0.941,8.358,2.415,12.217  c-2.844,1.029-5.563,2.409-8.111,4.131C4.585,41.891,2.253,36.21,2.025,30z M8.878,11.023c2.488,1.618,5.137,2.914,7.9,3.882  C15.086,19.012,14.15,23.44,14.028,28H2.025C2.264,21.493,4.812,15.568,8.878,11.023z M55.975,28H43.972  c-0.122-4.56-1.058-8.988-2.75-13.095c2.763-0.968,5.412-2.264,7.9-3.882C53.188,15.568,55.736,21.493,55.975,28z M28,14.963  c-2.891-0.082-5.729-0.513-8.471-1.283C21.556,9.522,24.418,5.769,28,2.644V14.963z M28,16.963V28H16.028  c0.123-4.348,1.035-8.565,2.666-12.475C21.7,16.396,24.821,16.878,28,16.963z M30,16.963c3.179-0.085,6.3-0.566,9.307-1.438  c1.631,3.91,2.543,8.127,2.666,12.475H30V16.963z M30,14.963V2.644c3.582,3.125,6.444,6.878,8.471,11.036  C35.729,14.45,32.891,14.881,30,14.963z M40.409,13.072c-1.921-4.025-4.587-7.692-7.888-10.835  c5.856,0.766,11.125,3.414,15.183,7.318C45.4,11.017,42.956,12.193,40.409,13.072z M17.591,13.072  c-2.547-0.879-4.991-2.055-7.294-3.517c4.057-3.904,9.327-6.552,15.183-7.318C22.178,5.38,19.512,9.047,17.591,13.072z M16.028,30  H28v10.038c-3.307,0.088-6.547,0.604-9.661,1.541C16.932,37.924,16.141,34.019,16.028,30z M28,42.038v13.318  c-3.834-3.345-6.84-7.409-8.884-11.917C21.983,42.594,24.961,42.124,28,42.038z M30,55.356V42.038  c3.039,0.085,6.017,0.556,8.884,1.4C36.84,47.947,33.834,52.011,30,55.356z M30,40.038V30h11.972  c-0.113,4.019-0.904,7.924-2.312,11.58C36.547,40.642,33.307,40.126,30,40.038z M43.972,30h12.003  c-0.228,6.21-2.559,11.891-6.307,16.348c-2.548-1.722-5.267-3.102-8.111-4.131C43.032,38.358,43.859,34.239,43.972,30z   M9.691,47.846c2.366-1.572,4.885-2.836,7.517-3.781c1.945,4.36,4.737,8.333,8.271,11.698C19.328,54.958,13.823,52.078,9.691,47.846  z M32.521,55.763c3.534-3.364,6.326-7.337,8.271-11.698c2.632,0.945,5.15,2.209,7.517,3.781  C44.177,52.078,38.672,54.958,32.521,55.763z\" fill=\"#FFFFFF\"></path><g></g><g></g><g></g><g></g><g></g><g></g><g></g><g></g><g></g><g></g><g></g><g></g><g></g><g></g><g></g></svg></div><div class=\"col hide-tablet\">Bahasa Indonesia</div></div></div></div></div></div></div></div>\n"
     ]
    }
   ],
   "source": [
    "div1 = soup.find(\"div\", {\"class\": \"container\"})\n",
    "print(div1)"
   ]
  },
  {
   "cell_type": "code",
   "execution_count": 31,
   "metadata": {},
   "outputs": [
    {
     "name": "stdout",
     "output_type": "stream",
     "text": [
      "<div class=\"row list list-small-mobile\" data-row-list=\"4\" id=\"list-merchant-gopay\"><div class=\"loading-list row\"><div class=\"col-auto col-md-12\"><div class=\"image\"></div></div><div class=\"col-6 col-md-12\"><div class=\"title\"></div><div class=\"paragraph\"></div></div></div><div class=\"loading-list row\"><div class=\"col-auto col-md-12\"><div class=\"image\"></div></div><div class=\"col-6 col-md-12\"><div class=\"title\"></div><div class=\"paragraph\"></div></div></div><div class=\"loading-list row\"><div class=\"col-auto col-md-12\"><div class=\"image\"></div></div><div class=\"col-6 col-md-12\"><div class=\"title\"></div><div class=\"paragraph\"></div></div></div><div class=\"loading-list row\"><div class=\"col-auto col-md-12\"><div class=\"image\"></div></div><div class=\"col-6 col-md-12\"><div class=\"title\"></div><div class=\"paragraph\"></div></div></div></div>\n",
      "None\n"
     ]
    }
   ],
   "source": [
    "div2 = soup.find(\"div\", {\"id\": \"list-merchant-gopay\"})\n",
    "div3 = soup.find(\"div\", {\"class\": \"content-list col-auto col-md-12 flex-mobile flex-column-reverse\"})\n",
    "print(div2)\n",
    "print(div3)\n",
    "\n"
   ]
  },
  {
   "cell_type": "code",
   "execution_count": 2,
   "metadata": {},
   "outputs": [],
   "source": [
    "browser = webdriver.Firefox()\n",
    "browser.get('https://www.gojek.com/gopay/pembayaran/merchant/')"
   ]
  },
  {
   "cell_type": "code",
   "execution_count": 14,
   "metadata": {},
   "outputs": [
    {
     "name": "stdout",
     "output_type": "stream",
     "text": [
      "<selenium.webdriver.firefox.webelement.FirefoxWebElement (session=\"dfb6c5d2-27a7-6846-86d2-77c453126c45\", element=\"92f45f7b-079c-7741-b4d6-7b92792b7851\")>\n",
      "[<selenium.webdriver.firefox.webelement.FirefoxWebElement (session=\"dfb6c5d2-27a7-6846-86d2-77c453126c45\", element=\"4ef66877-2969-b44b-a6a2-3263df42b5eb\")>]\n"
     ]
    }
   ],
   "source": [
    "content = browser.find_element_by_id('list-merchant-gopay')\n",
    "container = content.find_elements_by_xpath('//*[@id=\"list-merchant-gopay\"]/a[1]/div/div[2]')\n",
    "# container = content.find_element_by_class_name('container')\n",
    "print(content)\n",
    "print(container)"
   ]
  },
  {
   "cell_type": "code",
   "execution_count": null,
   "metadata": {},
   "outputs": [],
   "source": []
  },
  {
   "cell_type": "code",
   "execution_count": null,
   "metadata": {},
   "outputs": [],
   "source": []
  },
  {
   "cell_type": "code",
   "execution_count": null,
   "metadata": {},
   "outputs": [],
   "source": []
  }
 ],
 "metadata": {
  "kernelspec": {
   "display_name": "Python 3",
   "language": "python",
   "name": "python3"
  },
  "language_info": {
   "codemirror_mode": {
    "name": "ipython",
    "version": 3
   },
   "file_extension": ".py",
   "mimetype": "text/x-python",
   "name": "python",
   "nbconvert_exporter": "python",
   "pygments_lexer": "ipython3",
   "version": "3.7.7"
  }
 },
 "nbformat": 4,
 "nbformat_minor": 4
}
