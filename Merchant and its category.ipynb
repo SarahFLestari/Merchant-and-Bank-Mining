{
 "cells": [
  {
   "cell_type": "code",
   "execution_count": null,
   "metadata": {},
   "outputs": [],
   "source": [
    "import selenium"
   ]
  },
  {
   "cell_type": "code",
   "execution_count": null,
   "metadata": {},
   "outputs": [],
   "source": [
    "from selenium import webdriver\n",
    "\n",
    "browser = webdriver.Firefox()\n",
    "browser.get('https://giftpass.sodexomerchant.com/merchant')"
   ]
  },
  {
   "cell_type": "code",
   "execution_count": null,
   "metadata": {},
   "outputs": [],
   "source": [
    "content = browser.find_element_by_class_name('content')\n",
    "container = content.find_element_by_class_name('container')\n",
    "print(container)"
   ]
  },
  {
   "cell_type": "code",
   "execution_count": null,
   "metadata": {},
   "outputs": [],
   "source": [
    "header3 = container.find_element_by_tag_name('h3')\n",
    "category = header3.text\n",
    "print(type(category))"
   ]
  },
  {
   "cell_type": "code",
   "execution_count": null,
   "metadata": {},
   "outputs": [],
   "source": [
    "getLink_merch_name = container.find_element_by_tag_name(\"a\")\n",
    "link_merch_name = getLink_merch_name.get_attribute('href')\n",
    "print(link_merch_name)"
   ]
  },
  {
   "cell_type": "code",
   "execution_count": null,
   "metadata": {},
   "outputs": [],
   "source": [
    "list_a = getLink_merch_name.find_elements_by_xpath('//a[@href]')\n",
    "\n",
    "for a in list_a:\n",
    "    href = a.get_attribute('href')\n",
    "    print(href)\n",
    "\n",
    "get_href = container.find_element_by_tag_name(\"a\")\n",
    "#     link_merch_name = get_href.get_attribute('href')\n",
    "#     print(link_merch_name)"
   ]
  },
  {
   "cell_type": "code",
   "execution_count": null,
   "metadata": {},
   "outputs": [],
   "source": [
    "container = content.find_elements_by_xpath('/html/body/section/div[1]/div[1]')\n",
    "print(container)"
   ]
  },
  {
   "cell_type": "code",
   "execution_count": null,
   "metadata": {},
   "outputs": [],
   "source": [
    "import json\n",
    "list_link = []\n",
    "merchant_per_category = []\n",
    "\n",
    "for i in range(10):\n",
    "    i = i + 1 \n",
    "    print(i)\n",
    "    xpath = '/html/body/section/div[1]/div'\n",
    "    bracket1 = '['\n",
    "    str_i = str(i)\n",
    "    bracket2 = ']'\n",
    "    xpath_container = xpath+bracket1+str_i+bracket2\n",
    "    container = content.find_elements_by_xpath(xpath_container)\n",
    "    container_0 = container[0]\n",
    "    header3 = container_0.find_element_by_tag_name('h3')\n",
    "    category = header3.text\n",
    "#     print(category)\n",
    "    list_a = container_0.find_elements_by_xpath('//a[@href]')\n",
    "    for cont in list_a:\n",
    "        hr = container_0.find_element_by_tag_name('<hr>')\n",
    "        if hr == '' :\n",
    "            href = cont.get_attribute('href')\n",
    "        else:\n",
    "            break\n",
    "#         print(href)\n",
    "        list_link.append(href)\n",
    "    merchant_per_category.append([category,list_link])"
   ]
  },
  {
   "cell_type": "code",
   "execution_count": null,
   "metadata": {},
   "outputs": [],
   "source": [
    "merchant_per_category[1]"
   ]
  },
  {
   "cell_type": "code",
   "execution_count": null,
   "metadata": {},
   "outputs": [],
   "source": [
    "container = content.find_elements_by_xpath('/html/body/section/div[1]/div[2]')\n",
    "print(container)\n",
    "container[0]"
   ]
  },
  {
   "cell_type": "code",
   "execution_count": null,
   "metadata": {},
   "outputs": [],
   "source": [
    "hr = container_0.find_element_by_tag_name('hr')"
   ]
  },
  {
   "cell_type": "markdown",
   "metadata": {},
   "source": [
    "## BeatifulSoup"
   ]
  },
  {
   "cell_type": "code",
   "execution_count": 1,
   "metadata": {},
   "outputs": [],
   "source": [
    "from bs4 import BeautifulSoup\n",
    "import requests\n",
    "\n",
    "url = 'https://giftpass.sodexomerchant.com/merchant'\n",
    "html_doc = requests.get(url).content\n",
    "soup = BeautifulSoup(html_doc, 'html.parser')"
   ]
  },
  {
   "cell_type": "code",
   "execution_count": 2,
   "metadata": {},
   "outputs": [],
   "source": [
    "mrc_slide = soup.find(\"div\", {\"class\": \"mrc-slides\"})\n",
    "#print(mrc_slide)"
   ]
  },
  {
   "cell_type": "code",
   "execution_count": 3,
   "metadata": {},
   "outputs": [
    {
     "name": "stdout",
     "output_type": "stream",
     "text": [
      "Food & Beverages\n",
      "Warung Leko Gandaria City\n",
      "Detail Information\n"
     ]
    }
   ],
   "source": [
    "category_container = mrc_slide.find(\"div\", {\"class\": \"container\"})\n",
    "category_name = category_container.find('h3').get_text().strip()\n",
    "merchant_name = category_container.find('span').get_text().strip()\n",
    "print(category_name)\n",
    "print(merchant_name)"
   ]
  },
  {
   "cell_type": "code",
   "execution_count": 4,
   "metadata": {},
   "outputs": [],
   "source": [
    "merchants_name = [x.get_text().strip()\n",
    "               for x in category_container.find_all('span')]\n",
    "# print(merchants_name)"
   ]
  },
  {
   "cell_type": "code",
   "execution_count": 5,
   "metadata": {},
   "outputs": [],
   "source": [
    "merchants_itsCategory = []\n",
    "for category_container_i in mrc_slide.find_all(\"div\", {\"class\": \"container\"}):\n",
    "    category_names = category_container_i.find('h3').get_text().strip()\n",
    "    merchants_name = [x.get_text().strip()\n",
    "               for x in category_container_i.find_all('span')]\n",
    "    merchants_itsCategory.append([category_names, merchants_name])"
   ]
  },
  {
   "cell_type": "code",
   "execution_count": 6,
   "metadata": {},
   "outputs": [],
   "source": [
    "#Cleansing\n",
    "for i in range(len(merchants_itsCategory)):\n",
    "#     print(merchants_itsCategory[i])\n",
    "    for j in merchants_itsCategory[i][1]:\n",
    "        if j == 'Detail Information':\n",
    "          merchants_itsCategory[i][1].remove(j)  \n",
    "        else:\n",
    "            continue"
   ]
  },
  {
   "cell_type": "code",
   "execution_count": 7,
   "metadata": {},
   "outputs": [],
   "source": [
    "#Cleansing2\n",
    "import re\n",
    "for i in range(len(merchants_itsCategory)):\n",
    "    for j in range(len(merchants_itsCategory[i][1])):\n",
    "        merchants_itsCategory[i][1][j]=merchants_itsCategory[i][1][j].strip().replace('\\nDetail Information', '')"
   ]
  },
  {
   "cell_type": "code",
   "execution_count": 8,
   "metadata": {},
   "outputs": [
    {
     "name": "stdout",
     "output_type": "stream",
     "text": [
      "[['Food & Beverages', ['Warung Leko Gandaria City', 'Warung Leko Gandaria City', 'Bakmi Gocit', 'Bakmi Gocit', 'Kafe Betawi', 'Kafe Betawi', 'Solaria', 'Solaria', 'Negiya', 'Negiya', 'Noble Thai', 'Noble Thai', 'KFC', 'KFC', 'Pepper Lunch Resto ( Boga Group )', 'Pepper Lunch Resto ( Boga Group )', 'Lapis Malang', 'Lapis Malang', 'Rumah Air', 'Rumah Air', 'Deresto Coffee & Kitchen', 'Deresto Coffee & Kitchen', 'Ta Huang Restaurant', 'Ta Huang Restaurant', 'Cubeef', 'Cubeef', \"Maqui's\", \"Maqui's\", 'Gendhis Legi', 'Gendhis Legi', 'Ayam Tulang Lunak Hayam Wuruk', 'Ayam Tulang Lunak Hayam Wuruk', 'Chief Coffee & Roaster', 'Chief Coffee & Roaster', 'My Kopi O', 'My Kopi O', 'GiggleBox', 'GiggleBox', 'Bakoel Desa', 'Bakoel Desa', 'Sophie Authentique ', 'Sophie Authentique', 'Marrakech Restaurant', 'Marrakech Restaurant', 'Tom Tom', 'Tom Tom', 'Happy Lemon', 'Happy Lemon', 'Cafe Halaman', 'Cafe Halaman', 'Korean House', 'Korean House', 'Resto Warung Papatong', 'Resto Warung Papatong', 'Street Food Festival Mall Artha Gading', 'Street Food Festival Mall Artha Gading', 'Bangi Kopi Mall Artha Gading', 'Bangi Kopi Mall Artha Gading', 'Bangi Cafe', 'Bangi Cafe', 'NexThai', 'NexThai', 'Bonello', 'Bonello', 'Ngopi Doeloe', 'Ngopi Doeloe', 'Hakuna Matata', 'Hakuna Matata', 'Holy Smokes', 'Holy Smokes', 'Malang Strudel', 'Malang Strudel', 'Java Ramen Bar', 'Java Ramen Bar', 'Takon The Story Of Sushi', 'Takon The Story Of Sushi', 'Tako n Sushi Box', 'Tako n Sushi Box', 'Ramen n Sushi Box', 'Ramen n Sushi Box', 'Aprilasta Bakery & Coffee', 'Aprilasta Bakery & Coffee', 'Doea Tjangkir', 'Doea Tjangkir', 'Surabaya Patata', 'Surabaya Patata', 'Oval Bar & Lounge', 'Oval Bar & Lounge', 'Foresta Coffee', 'Foresta Coffee', 'Torigen Teppanyaki Bar', 'Torigen Teppanyaki Bar', 'Torigen Izakaya', 'Torigen Izakaya', 'Pamor', 'Pamor', 'Pino Terrace', 'Pino Terrace', 'Porto Bistreau', 'Porto Bistreau', 'Nara Park', 'Nara Park', 'Foresthree Kitchen', 'Foresthree Kitchen', 'J Steak', 'J Steak', 'Roof Park', 'Roof Park', 'Stumpy Coffee', 'Stumpy Coffee', 'Imperial Cakery', 'Imperial Cakery', 'Imperial Kitchen & Dimsum', 'Imperial Kitchen & Dimsum', 'Penyetan Cok', 'Penyetan Cok', 'Suteki', 'Suteki', 'Bebek Semangat', 'Bebek Semangat', 'Thai Haus', 'Thai Haus', 'Bavarian Haus', 'Bavarian Haus', 'Yakiniku Like (Boga Group)', 'Yakiniku Like (Boga Group)', 'Kedai Kopi Tenong', 'Kedai Kopi Tenong', 'Prince House', 'Prince House', 'aRoma Gelato', 'aRoma Gelato', 'Saint Cinnamon & Coffee', 'Saint Cinnamon & Coffee', 'Takarajima', 'Takarajima', \"Raffel's Sandwich\", \"Raffel's Sandwich\", '10 Ten (Boga Group)', '10 Ten (Boga Group)', 'Taco Beach Grill', 'Taco Beach Grill', 'Exquise Patisserie', 'Exquise Patisserie', 'Eggtacular', 'Eggtacular', 'Lapis Van Java', 'Lapis Van Java', 'Bandung Kunafe', 'Bandung Kunafe', 'Cream Fiction', 'Cream Fiction', 'The Yumz', 'The Yumz', 'Imperial Tables', 'Imperial Tables', 'Lamian Palace', 'Lamian Palace', 'Happy Day', 'Happy Day', 'Kopi Pujaan', 'Kopi Pujaan', 'PnC Single Region Coffee', 'PnC Single Region Coffee', 'School Food Bloomingmari', 'School Food Bloomingmari', 'Jambo Kupi', 'Jambo Kupi', 'The Grand Nihao', 'The Grand Nihao', 'Lumbung Padi', 'Lumbung Padi', 'Delifrance', 'Delifrance', 'Ziato Artisan Gelato', 'Ziato Artisan Gelato', 'Korbeq Restaurant', 'Korbeq Restaurant', 'Cafe MKK', 'Cafe MKK', 'Stevan Meat Shop Restaurant  ', 'Stevan Meat Shop Restaurant', 'Torico', 'Torico', 'Hokkaido Baked Cheese Tart ', 'Hokkaido Baked Cheese Tart', 'Secret Recipe', 'Secret Recipe', 'Gaya Gelato', 'Gaya Gelato', 'Gula Merah', 'Gula Merah', 'Darin Master of Noodle ', 'Darin Master of Noodle', 'Life Juice', 'Life Juice', 'Sapo Oriental ', 'Sapo Oriental', 'SaladStop!', 'SaladStop!', 'CFC', 'CFC', 'Devon Cafe', 'Devon Cafe', 'Sukadeli', 'Sukadeli', 'Culture Royale Catering ', 'Culture Royale Catering', 'Vava Cake', 'Vava Cake', 'Bakery Ciputra', 'Bakery Ciputra', 'Shabu Ghin', 'Shabu Ghin', 'Pig Me up', 'Pig Me up', 'Cuppa Coffee Inc', 'Cuppa Coffee Inc', 'Rice Bowl', 'Rice Bowl', 'Ce Wei', 'Ce Wei', 'Senandung Alam', 'Senandung Alam', 'Walao Eh', 'Walao Eh', 'Mister Baso', 'Mister Baso', 'BASO By Mister Baso', 'BASO By Mister Baso', 'Joy Luck Pot', 'Joy Luck Pot', 'Igakoe', 'Igakoe', 'Imperial Chef', 'Imperial Chef', 'The Duck King Group', 'The Duck King Group', 'Fanda’s Favourite  Restaurant', 'Fanda’s Favourite  Restaurant', 'Pizza Maru', 'Pizza Maru', 'Ippudo Ramen', 'Ippudo Ramen', 'Restaurant Rantang Ibu', 'Restaurant Rantang Ibu', 'Tetsin Mochi Mochio', 'Tetsin Mochi Mochio', 'Sa Le Restaurant', 'Sa Le Restaurant', 'Tiga Wonton', 'Tiga Wonton', 'Dago Restaurant', 'Dago Restaurant', 'Pish & Posh', 'Pish & Posh', 'Almondtree', 'Almondtree', 'The Harvest', 'The Harvest', 'Kamu Tea', 'Kamu Tea', \"Nanny's Pavillon\", \"Nanny's Pavillon\", 'Gokana', 'Gokana', 'Raa Cha Suki & BBQ', 'Raa Cha Suki & BBQ', 'Baso Malang Karapitan ( BMK )', 'Baso Malang Karapitan ( BMK )', 'Shaburi & Kintan Buffet ( Boga Group )', 'Shaburi & Kintan Buffet ( Boga Group )', 'Platinum Resto Cafe', 'Platinum Resto Cafe', 'Chopstix', 'Chopstix', 'Kopilatinum', 'Kopilatinum', 'Batavia Cafe', 'Batavia Cafe', 'Menya Musashi', 'Menya Musashi', 'Lavore', 'Lavore', 'Kimukatsu', 'Kimukatsu', 'Sukiya', 'Sukiya', 'Blue Jasmine', 'Blue Jasmine', 'Putu Made ( Boga Group )', 'Putu Made ( Boga Group )', 'Bumbu Rasa', 'Bumbu Rasa', 'Bebek Bengil Express', 'Bebek Bengil Express', 'Pho24', 'Pho24', 'Seorae', 'Seorae', 'Uchino Shokudo', 'Uchino Shokudo', 'Kushiya Monogatari', 'Kushiya Monogatari', 'Penang Bistro', 'Penang Bistro', 'Miyagi', 'Miyagi', 'Seribu Rasa', 'Seribu Rasa', 'Maison Tatsuya', 'Maison Tatsuya', 'Hong Kong Cafe', 'Hong Kong Cafe', 'Greyhound Cafe', 'Greyhound Cafe', 'Amypond Cafe', 'Amypond Cafe', 'Canteen Jakarta Intercultural School ( JIS )', 'Canteen Jakarta Intercultural School ( JIS )', 'Sangrai Pelopor Puyuh', 'Sangrai Pelopor Puyuh', 'Shaburi ( Boga Group )', 'Shaburi ( Boga Group )', 'Sushi Bar', 'Sushi Bar', 'Saboga', 'Saboga', 'Teppanraw', 'Teppanraw', 'Sukigao', 'Sukigao', 'Berkat', 'Berkat', 'Warung Koffie Batavia', 'Warung Koffie Batavia', 'Coffee Club', 'Coffee Club', 'Bing Go', 'Bing Go', 'Onokabe ( Boga Group )', 'Onokabe ( Boga Group )', 'Kintan Buffet ( Boga Group )', 'Kintan Buffet ( Boga Group )', 'Bale Nyoenya', 'Bale Nyoenya', 'Johnny Rockets', 'Johnny Rockets', 'Mama Malaka', 'Mama Malaka', 'Omah Rasa', 'Omah Rasa', 'The Taste', 'The Taste', 'Sour Sally', 'Sour Sally', 'Street Food Festival', 'Street Food Festival', 'Gong Cha', 'Gong Cha', 'Billiechick', 'Billiechick', 'Bebek Bengil', 'Bebek Bengil', 'Wee Nam Kee ', 'Wee Nam Kee', 'Bangi Kopi', 'Bangi Kopi', 'Dermaga Makassar Seafood', 'Dermaga Makassar Seafood', 'Deli Patissiere', 'Deli Patissiere', 'Gong Kitchen', 'Gong Kitchen', 'Eat Boss', 'Eat Boss', 'Founder Bak Kut Teh', 'Founder Bak Kut Teh', 'Kobeshi by Shabu2House', 'Kobeshi by Shabu2House', 'Shabu Shabu House', 'Shabu Shabu House', 'Superbowl', 'Superbowl', 'Wok Hei', 'Wok Hei', 'Foek Lam', 'Foek Lam', 'Jun Njan', 'Jun Njan', 'Quantum Bistro', 'Quantum Bistro', 'Ikan Bali Jimbaran', 'Ikan Bali Jimbaran', 'Bon Creperie', 'Bon Creperie', 'Old Town White Coffee', 'Old Town White Coffee', 'HOMEY at SIXTEENTH', 'HOMEY at SIXTEENTH', 'SARIMANDE METROPOLITAN', 'SARIMANDE METROPOLITAN', 'Bakmi Naga', 'Bakmi Naga', \"It's my cake\", \"It's my cake\", 'Java Village', 'Java Village', 'Java Toast', 'Java Toast', 'Zhuma - Japanese Bistro', 'Zhuma - Japanese Bistro', 'Java Kitchen', 'Java Kitchen', 'Oh La La Cafe', 'Oh La La Cafe', 'Mango Tree  Bistro', 'Mango Tree  Bistro', 'Over Rice Restaurant', 'Over Rice Restaurant', 'Kambing Bakar Cairo', 'Kambing Bakar Cairo', 'Han Gang Korean Restaurant', 'Han Gang Korean Restaurant', \"Grandma's Thai\", \"Grandma's Thai\", \"Grandma's Suki\", \"Grandma's Suki\", 'Foodcourt Eatery', 'Foodcourt Eatery', 'Foodcourt Food Avenue', 'Foodcourt Food Avenue', 'XO Suki Restaurant', 'XO Suki Restaurant', 'White Hunter', 'White Hunter', 'Domino Cake Bakery', 'Domino Cake Bakery', 'Planet Popcorn', 'Planet Popcorn', 'DConsulate', 'DConsulate', 'Paradise Dynasty ( Boga Group )', 'Paradise Dynasty ( Boga Group )', 'Paradise Inn ( Boga Group )', 'Paradise Inn ( Boga Group )', 'One Eight Resto', 'One Eight Resto', 'Mama Cita The Wine Kitchen', 'Mama Cita The Wine Kitchen', 'Locanda Food Voyager', 'Locanda Food Voyager', 'Café De France', 'Café De France', 'Pepper Lunch Express ( Boga Group )', 'Pepper Lunch Express ( Boga Group )', 'Bakerzin ( Boga Group )', 'Bakerzin ( Boga Group )', 'Meat Me Steakhouse & Butchery', 'Meat Me Steakhouse & Butchery', 'Master Wok ( Boga Group )', 'Master Wok ( Boga Group )', 'Kyochon Indonesia', 'Kyochon Indonesia', 'Jeans Chili Chicken', 'Jeans Chili Chicken', 'Urban Bistro', 'Urban Bistro', 'Golden Lamian', 'Golden Lamian', 'The Holy Crab', 'The Holy Crab', 'The Straits Canteen', 'The Straits Canteen', 'Bebek Dower', 'Bebek Dower', 'Shabu Shabu Express', 'Shabu Shabu Express', 'Sunny Side Up', 'Sunny Side Up', 'Ssikkek Korean BBQ Buffet', 'Ssikkek Korean BBQ Buffet', 'Sere Manis Restaurant', 'Sere Manis Restaurant', 'Shabu Tei Restaurant', 'Shabu Tei Restaurant', 'Rych Menu', 'Rych Menu', 'Five Monkey', 'Five Monkey', 'Burger King', 'Burger King', 'Dominos Pizza', 'Dominos Pizza', 'Flaming Pots', 'Flaming Pots', 'Sierra Cafe & Lounge', 'Sierra Cafe & Lounge', 'Soup Restaurant', 'Soup Restaurant', 'Riung Gili Gili', 'Riung Gili Gili', 'Saint Cinnamon (Bakery Cafe)', 'Saint Cinnamon (Bakery Cafe)', 'Sambara', 'Sambara', 'Poke Sushi', 'Poke Sushi', 'Pure Foodism Restaurant', 'Pure Foodism Restaurant', 'Melrimba Garden', 'Melrimba Garden', 'Nan Xiang', 'Nan Xiang', 'Kembang Lawang', 'Kembang Lawang', 'Kalimilk ( Restaurant )', 'Kalimilk ( Restaurant )', 'Hanei', 'Hanei', 'Ichiban Crepes ', 'Ichiban Crepes', 'Coca Suki', 'Coca Suki', 'Gelato Bar (Restaurant)', 'Gelato Bar (Restaurant)', 'Glosis European Food', 'Glosis European Food', 'Hanei Sushi', 'Hanei Sushi', 'Citrus Taste - Sangria', 'Citrus Taste - Sangria']], ['Supermarket', ['Seroyamart.com', 'Seroyamart.com', 'Carrefour', 'Carrefour', 'Alfamart', 'Alfamart', 'Alfamidi', 'Alfamidi', 'Papaya Fresh Gallery', 'Papaya Fresh Gallery', 'Lawson', 'Lawson', 'TIP TOP Swalayan', 'TIP TOP Swalayan']], ['Education', ['Gramedia', 'Gramedia', 'Lembaga Kursus dan Pelatihan LEVI', 'Lembaga Kursus dan Pelatihan LEVI']], ['Dept. Store and Fashion', ['Raja FO', 'Raja FO', 'Witness', 'Witness', 'Gaudi', 'Gaudi', 'Hava', 'Hava', 'Amante', 'Amante', 'Brodo', 'Brodo', 'Fiori', 'Fiori', 'ARL', 'ARL', 'Hardware', 'Hardware', 'Pierre Cardin', 'Pierre Cardin', 'Nicole Lee', 'Nicole Lee', 'Byford', 'Byford', 'Belt Junction', 'Belt Junction', 'Red Wine Shoes and Bags', 'Red Wine Shoes and Bags', 'Inibayiku.com', 'Inibayiku.com', 'HF by Zaskia Sungkar', 'HF by Zaskia Sungkar', 'Meccanism by Zaskia Mecca', 'Meccanism by Zaskia Mecca', 'Tororo.com', 'Tororo.com', 'Jenahara', 'Jenahara', 'Andre Valentino', 'Andre Valentino', 'Wacoal', 'Wacoal', 'Citrus Department Store', 'Citrus Department Store', 'Pasaraya Manggarai', 'Pasaraya Manggarai', 'Ranti - Moslem Fashion', 'Ranti - Moslem Fashion', 'Tomodachi Boutique', 'Tomodachi Boutique', 'Wong Hang Tailor', 'Wong Hang Tailor', 'EVB (Shoes Store)', 'EVB (Shoes Store)', 'Everbest Shoes', 'Everbest Shoes', 'Andrew Shoes', 'Andrew Shoes', 'Pasaraya Grande', 'Pasaraya Grande', 'Matahari Department Store', 'Matahari Department Store']], ['Automotive', ['Tunas Toyota', 'Tunas Toyota', 'System X Ceramic Protection', 'System X Ceramic Protection', 'ICE-µ Premium Window Film ', 'ICE-µ Premium Window Film', 'Bengkel Bos', 'Bengkel Bos', 'Autoglaze Express', 'Autoglaze Express', 'Yuasa', 'Yuasa', 'Tunas Daihatsu', 'Tunas Daihatsu', 'Wijaya Motor', 'Wijaya Motor', 'HRA Group ( Bengkel Mobil )', 'HRA Group ( Bengkel Mobil )', 'BTC Tire Center', 'BTC Tire Center', 'Express Tyres', 'Express Tyres', 'Exclusive Auto Garage', 'Exclusive Auto Garage']], ['Health and Beauty', ['Indonesian Sport Medical Center ', 'Indonesian Sport Medical Center', 'South Dental Clinic', 'South Dental Clinic', 'Khiwax & Dazzling Eyes ', 'Khiwax & Dazzling Eyes', 'Femme Lab', 'Femme Lab', 'Happy Dental Clinic', 'Happy Dental Clinic', 'Impressions', 'Impressions', 'Gorjes', 'Gorjes', \"D' Caspia Reflexology & Spa Family\", \"D' Caspia Reflexology & Spa Family\", 'Aderra Spa Massage & Therapy', 'Aderra Spa Massage & Therapy', 'Adelin Spa', 'Adelin Spa', 'Sakura Fit & Healthy Therapy', 'Sakura Fit & Healthy Therapy', 'Bareskin', 'Bareskin', 'RS. Bhina Bhakti Husada', 'RS. Bhina Bhakti Husada', 'FDC Dental Clinic', 'FDC Dental Clinic', 'Ocean Dental Clinic', 'Ocean Dental Clinic', 'KALCare', 'KALCare', 'Beauty Couture', 'Beauty Couture', 'Etude House', 'Etude House', 'Integrated Therapeutic', 'Integrated Therapeutic', 'Mamamia Spa', 'Mamamia Spa', 'Advance', 'Advance', 'Gloskin Aesthetic Clinic', 'Gloskin Aesthetic Clinic', 'Amira Aesthetic Clinic', 'Amira Aesthetic Clinic', 'Touch Beauty', 'Touch Beauty', 'Bambu Spa', 'Bambu Spa', 'La Vie Clinic', 'La Vie Clinic', 'Esthetic Rosereve & Melrose ', 'Esthetic Rosereve & Melrose', 'Apotek K-24 Bintang Farma', 'Apotek K-24 Bintang Farma', 'Dan Dan', 'Dan Dan', 'Optik Melawai Sunglasses', 'Optik Melawai Sunglasses', 'Optik Keluarga', 'Optik Keluarga', 'Body Counturs Indonesia', 'Body Counturs Indonesia', 'Optik Melawai', 'Optik Melawai', 'The Spa @Sangria', 'The Spa @Sangria', 'Sahid Sahirman Medical Centre', 'Sahid Sahirman Medical Centre', 'Apotek Basmar', 'Apotek Basmar', 'Apotek K-24', 'Apotek K-24', 'Prodia Laboratorium Klinik', 'Prodia Laboratorium Klinik', 'Mom & Jo', 'Mom & Jo', 'Samsara Spa', 'Samsara Spa', 'Click House', 'Click House', 'Gaya Spa & Stylist Salon', 'Gaya Spa & Stylist Salon', 'Haircode Salon', 'Haircode Salon', 'Life Tree Spa', 'Life Tree Spa', 'Lollicut Salon', 'Lollicut Salon', 'Bale Bale Spa', 'Bale Bale Spa']], ['Hotel and Travel', ['Hana Tour', 'Hana Tour', 'pergiumroh.com', 'pergiumroh.com', 'Menumbing Heritage Hotel', 'Menumbing Heritage Hotel', 'Global Connection Travel Services', 'Global Connection Travel Services', 'Hotel Ciputra', 'Hotel Ciputra', 'Interline Holidays Tours & Travel', 'Interline Holidays Tours & Travel', 'UTC Hotel', 'UTC Hotel', 'Hotel Pandanaran Yogyakarta', 'Hotel Pandanaran Yogyakarta', 'Dekuta Boutique Hotel', 'Dekuta Boutique Hotel', 'Point Tour', 'Point Tour', 'SanGria Resort & Spa', 'SanGria Resort & Spa', 'Hotel Pandanaran Semarang', 'Hotel Pandanaran Semarang', 'Marbella Suites Bandung', 'Marbella Suites Bandung']], ['Leisure and Hobby', ['De Voyage', 'De Voyage', 'Jonas Photo', 'Jonas Photo', 'Bike Colony', 'Bike Colony', 'Secret Garden Village', 'Secret Garden Village', 'Red Paddle Bali Adventures', 'Red Paddle Bali Adventures', 'The Replay Karaoke', 'The Replay Karaoke', 'Pondok Indah Waterpark', 'Pondok Indah Waterpark', 'Kristal Klear Dive', 'Kristal Klear Dive', 'Houbii Urban Adventure Park', 'Houbii Urban Adventure Park', 'BX Rink', 'BX Rink', 'Wenger', 'Wenger', 'Waterboom Lippo Cikarang', 'Waterboom Lippo Cikarang', 'Star Studio', 'Star Studio', 'Caldera Indonesia', 'Caldera Indonesia', 'Sentul Highland', 'Sentul Highland', 'Avtech', 'Avtech', 'Matoa Nasional (Golf)', 'Matoa Nasional (Golf)', 'DIVA Family Karaoke', 'DIVA Family Karaoke']], ['Electronic and Home', ['Electronic City', 'Electronic City', 'Fabelio', 'Fabelio', 'Informa', 'Informa', 'Selma', 'Selma', 'Pemmz.com', 'Pemmz.com', 'Zojirushi', 'Zojirushi', 'TokoPDA.com', 'TokoPDA.com', 'Melandas Lifestyle Furniture', 'Melandas Lifestyle Furniture', 'F/Center ( Furniture Center )', 'F/Center ( Furniture Center )', 'Sinar Electronic', 'Sinar Electronic', 'Megafon Shop', 'Megafon Shop']], ['Others', ['Goldmart Logam Mulia', 'Goldmart Logam Mulia', 'Toys Kingdom', 'Toys Kingdom', 'Vape Boss', 'Vape Boss', 'Haracare', 'Haracare', 'The Cleaner Indonesia', 'The Cleaner Indonesia', 'Pet Kingdom', 'Pet Kingdom', 'Kopkar Pervetti Van Melle Indonesia', 'Kopkar Pervetti Van Melle Indonesia', 'Samisara Grand Ballroom At Sopo Del', 'Samisara Grand Ballroom At Sopo Del', 'Tokio Marine ( Insurance Group )', 'Tokio Marine ( Insurance Group )', 'Emas Mulia', 'Emas Mulia', 'Goldmart ', 'Goldmart']]]\n"
     ]
    }
   ],
   "source": [
    "print(merchants_itsCategory)"
   ]
  },
  {
   "cell_type": "code",
   "execution_count": 14,
   "metadata": {},
   "outputs": [],
   "source": [
    "#To Pandas\n",
    "import pandas as pd\n",
    "df = pd.DataFrame(merchants_itsCategory,columns=['Category','Merchants Name'])"
   ]
  },
  {
   "cell_type": "code",
   "execution_count": 15,
   "metadata": {},
   "outputs": [
    {
     "data": {
      "text/html": [
       "<div>\n",
       "<style scoped>\n",
       "    .dataframe tbody tr th:only-of-type {\n",
       "        vertical-align: middle;\n",
       "    }\n",
       "\n",
       "    .dataframe tbody tr th {\n",
       "        vertical-align: top;\n",
       "    }\n",
       "\n",
       "    .dataframe thead th {\n",
       "        text-align: right;\n",
       "    }\n",
       "</style>\n",
       "<table border=\"1\" class=\"dataframe\">\n",
       "  <thead>\n",
       "    <tr style=\"text-align: right;\">\n",
       "      <th></th>\n",
       "      <th>Category</th>\n",
       "      <th>Merchants Name</th>\n",
       "    </tr>\n",
       "  </thead>\n",
       "  <tbody>\n",
       "    <tr>\n",
       "      <th>0</th>\n",
       "      <td>Food &amp; Beverages</td>\n",
       "      <td>[Warung Leko Gandaria City, Warung Leko Gandar...</td>\n",
       "    </tr>\n",
       "    <tr>\n",
       "      <th>1</th>\n",
       "      <td>Supermarket</td>\n",
       "      <td>[Seroyamart.com, Seroyamart.com, Carrefour, Ca...</td>\n",
       "    </tr>\n",
       "    <tr>\n",
       "      <th>2</th>\n",
       "      <td>Education</td>\n",
       "      <td>[Gramedia, Gramedia, Lembaga Kursus dan Pelati...</td>\n",
       "    </tr>\n",
       "    <tr>\n",
       "      <th>3</th>\n",
       "      <td>Dept. Store and Fashion</td>\n",
       "      <td>[Raja FO, Raja FO, Witness, Witness, Gaudi, Ga...</td>\n",
       "    </tr>\n",
       "    <tr>\n",
       "      <th>4</th>\n",
       "      <td>Automotive</td>\n",
       "      <td>[Tunas Toyota, Tunas Toyota, System X Ceramic ...</td>\n",
       "    </tr>\n",
       "  </tbody>\n",
       "</table>\n",
       "</div>"
      ],
      "text/plain": [
       "                  Category                                     Merchants Name\n",
       "0         Food & Beverages  [Warung Leko Gandaria City, Warung Leko Gandar...\n",
       "1              Supermarket  [Seroyamart.com, Seroyamart.com, Carrefour, Ca...\n",
       "2                Education  [Gramedia, Gramedia, Lembaga Kursus dan Pelati...\n",
       "3  Dept. Store and Fashion  [Raja FO, Raja FO, Witness, Witness, Gaudi, Ga...\n",
       "4               Automotive  [Tunas Toyota, Tunas Toyota, System X Ceramic ..."
      ]
     },
     "execution_count": 15,
     "metadata": {},
     "output_type": "execute_result"
    }
   ],
   "source": [
    "df.head()"
   ]
  },
  {
   "cell_type": "code",
   "execution_count": 27,
   "metadata": {},
   "outputs": [
    {
     "data": {
      "text/html": [
       "<div>\n",
       "<style scoped>\n",
       "    .dataframe tbody tr th:only-of-type {\n",
       "        vertical-align: middle;\n",
       "    }\n",
       "\n",
       "    .dataframe tbody tr th {\n",
       "        vertical-align: top;\n",
       "    }\n",
       "\n",
       "    .dataframe thead th {\n",
       "        text-align: right;\n",
       "    }\n",
       "</style>\n",
       "<table border=\"1\" class=\"dataframe\">\n",
       "  <thead>\n",
       "    <tr style=\"text-align: right;\">\n",
       "      <th></th>\n",
       "      <th>Category</th>\n",
       "      <th>Merchants Name</th>\n",
       "    </tr>\n",
       "  </thead>\n",
       "  <tbody>\n",
       "    <tr>\n",
       "      <th>0</th>\n",
       "      <td>Food &amp; Beverages</td>\n",
       "      <td>Warung Leko Gandaria City</td>\n",
       "    </tr>\n",
       "    <tr>\n",
       "      <th>0</th>\n",
       "      <td>Food &amp; Beverages</td>\n",
       "      <td>Bakmi Gocit</td>\n",
       "    </tr>\n",
       "    <tr>\n",
       "      <th>0</th>\n",
       "      <td>Food &amp; Beverages</td>\n",
       "      <td>Kafe Betawi</td>\n",
       "    </tr>\n",
       "    <tr>\n",
       "      <th>0</th>\n",
       "      <td>Food &amp; Beverages</td>\n",
       "      <td>Solaria</td>\n",
       "    </tr>\n",
       "    <tr>\n",
       "      <th>0</th>\n",
       "      <td>Food &amp; Beverages</td>\n",
       "      <td>Negiya</td>\n",
       "    </tr>\n",
       "  </tbody>\n",
       "</table>\n",
       "</div>"
      ],
      "text/plain": [
       "           Category             Merchants Name\n",
       "0  Food & Beverages  Warung Leko Gandaria City\n",
       "0  Food & Beverages                Bakmi Gocit\n",
       "0  Food & Beverages                Kafe Betawi\n",
       "0  Food & Beverages                    Solaria\n",
       "0  Food & Beverages                     Negiya"
      ]
     },
     "execution_count": 27,
     "metadata": {},
     "output_type": "execute_result"
    }
   ],
   "source": [
    "df_merchants = df.explode('Merchants Name')\n",
    "df_merchants['Merchants Name'] = df_merchants['Merchants Name'].str.strip()\n",
    "df_merchants = df_merchants.drop_duplicates()\n",
    "df_merchants.head()"
   ]
  },
  {
   "cell_type": "code",
   "execution_count": 29,
   "metadata": {},
   "outputs": [],
   "source": [
    "df_merchants.to_csv(\"merchants_category_sodexo.csv\")"
   ]
  },
  {
   "cell_type": "code",
   "execution_count": null,
   "metadata": {},
   "outputs": [],
   "source": []
  }
 ],
 "metadata": {
  "kernelspec": {
   "display_name": "Python 3",
   "language": "python",
   "name": "python3"
  },
  "language_info": {
   "codemirror_mode": {
    "name": "ipython",
    "version": 3
   },
   "file_extension": ".py",
   "mimetype": "text/x-python",
   "name": "python",
   "nbconvert_exporter": "python",
   "pygments_lexer": "ipython3",
   "version": "3.7.6"
  }
 },
 "nbformat": 4,
 "nbformat_minor": 4
}
