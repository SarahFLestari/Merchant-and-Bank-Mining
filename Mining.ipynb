{
 "cells": [
  {
   "cell_type": "code",
   "execution_count": 2,
   "metadata": {},
   "outputs": [],
   "source": [
    "import selenium"
   ]
  },
  {
   "cell_type": "code",
   "execution_count": 23,
   "metadata": {},
   "outputs": [],
   "source": [
    "from selenium import webdriver\n",
    "\n",
    "browser = webdriver.Firefox()\n",
    "browser.get('http://seleniumhq.org/')\n",
    "\n",
    "\n"
   ]
  },
  {
   "cell_type": "code",
   "execution_count": 24,
   "metadata": {},
   "outputs": [],
   "source": [
    "from time import sleep\n",
    "from selenium import webdriver\n",
    "\n",
    "\n",
    "def gecko_test(site_000='https://bit.ly/2WaKraO'):\n",
    "    \"\"\"\n",
    "    simple overview:\n",
    "        1) set up webdriver\n",
    "        2) load this article \n",
    "        3) close up shop \n",
    "    \n",
    "    input:\n",
    "        >> site_000\n",
    "            > default: url of this article\n",
    "    \"\"\"\n",
    "    # set the driver \n",
    "    driver = webdriver.Firefox()\n",
    "\n",
    "    # load this article \n",
    "    driver.get(site_000)\n",
    "    # and chill a bit\n",
    "    sleep(7)\n",
    "\n",
    "    # k, cool. let's bounce. \n",
    "    driver.quit()\n",
    "\n",
    "\n",
    "# make runable \n",
    "if __name__ == '__main__':\n",
    "    # here we go\n",
    "    gecko_test()"
   ]
  },
  {
   "cell_type": "code",
   "execution_count": null,
   "metadata": {},
   "outputs": [],
   "source": []
  }
 ],
 "metadata": {
  "kernelspec": {
   "display_name": "Python 3",
   "language": "python",
   "name": "python3"
  },
  "language_info": {
   "codemirror_mode": {
    "name": "ipython",
    "version": 3
   },
   "file_extension": ".py",
   "mimetype": "text/x-python",
   "name": "python",
   "nbconvert_exporter": "python",
   "pygments_lexer": "ipython3",
   "version": "3.7.7"
  }
 },
 "nbformat": 4,
 "nbformat_minor": 4
}
